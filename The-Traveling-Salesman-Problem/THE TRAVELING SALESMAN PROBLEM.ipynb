{
 "cells": [
  {
   "cell_type": "markdown",
   "metadata": {},
   "source": [
    "# THE TRAVELING SALESMAN"
   ]
  },
  {
   "cell_type": "markdown",
   "metadata": {},
   "source": [
    "The travelling salesperson problem (TSP) is a classic optimization problem where the goal is to determine the shortest tour of a collection of n “cities” (i.e. nodes), starting and ending in the same city and visiting all of the other cities exactly once. In such a situation, a solution can be represented by a vector of n integers, each in the range 0 to n-1, specifying the order in which the cities should be visited.\n",
    "\n",
    "TSP is an NP-hard problem, meaning that, for larger values of n, it is not feasible to evaluate every possible problem solution within a reasonable period of time. Consequently, TSPs are well suited to solving using randomized optimization algorithms."
   ]
  },
  {
   "cell_type": "code",
   "execution_count": 154,
   "metadata": {},
   "outputs": [],
   "source": [
    "# Import libraries\n",
    "\n",
    "import mlrose\n",
    "import numpy as np\n",
    "import random\n",
    "import math"
   ]
  },
  {
   "cell_type": "code",
   "execution_count": 155,
   "metadata": {},
   "outputs": [
    {
     "name": "stdout",
     "output_type": "stream",
     "text": [
      "Please, introduce the number of coordinates: 10\n"
     ]
    }
   ],
   "source": [
    "# Create the coordinates\n",
    "\n",
    "N = int(input(\"Please, introduce the number of coordinates: \"))\n",
    "coordinates = [random.sample(range(200), 2) for x in range(N)]"
   ]
  },
  {
   "cell_type": "code",
   "execution_count": 156,
   "metadata": {},
   "outputs": [],
   "source": [
    "def dist(a,b):\n",
    "    \"\"\"Compute the L2-norm (Euclidean) distance between two points.\n",
    "    The distance is rounded to the closest integer, for compatibility with the TSPLIB convention.\n",
    "    Parameters:\n",
    "    \n",
    "    - a: coordinate (x1,y1)\n",
    "    - b: coordinate (x2,y2)\"\"\"\n",
    "    \n",
    "    x1=a[0]\n",
    "    y1=a[1]\n",
    "    x2=b[0]\n",
    "    y2=b[1]\n",
    "    xdiff = x2 - x1\n",
    "    ydiff = y2 - y1\n",
    "    return int(math.sqrt(xdiff*xdiff + ydiff*ydiff) + .5)"
   ]
  },
  {
   "cell_type": "code",
   "execution_count": 157,
   "metadata": {},
   "outputs": [],
   "source": [
    "def mk_matrix(coordinates):\n",
    "    \"\"\"Compute a distance matrix for a set of points.Parameters:\n",
    "    - coordinates: list of tuples with coordinates of all points, [(x1,y1),...,(xn,yn)]\n",
    "    \"\"\"\n",
    "    n = len(coordinates)\n",
    "    D = []      # dictionary to hold n times n matrix\n",
    "    for i in range(n-1):\n",
    "        for j in range(i+1,n):\n",
    "            a = coordinates[i]\n",
    "            b = coordinates[j]\n",
    "            distance = dist(a,b)\n",
    "            distance_coord = (i,j,distance)\n",
    "            D.append(distance_coord)\n",
    "    return n,D"
   ]
  },
  {
   "cell_type": "code",
   "execution_count": 158,
   "metadata": {},
   "outputs": [],
   "source": [
    "distance_matrix=mk_matrix(field)[1]"
   ]
  },
  {
   "cell_type": "code",
   "execution_count": 159,
   "metadata": {},
   "outputs": [],
   "source": [
    "fitness_dists = mlrose.TravellingSales(distances = distance_matrix)"
   ]
  },
  {
   "cell_type": "code",
   "execution_count": 160,
   "metadata": {},
   "outputs": [],
   "source": [
    "problem_fit = mlrose.TSPOpt(length = N, fitness_fn = fitness_dists, maximize=False)"
   ]
  },
  {
   "cell_type": "code",
   "execution_count": 161,
   "metadata": {},
   "outputs": [
    {
     "name": "stdout",
     "output_type": "stream",
     "text": [
      "[5 1 0 3 8 9 2 7 4 6]\n",
      "654.0\n"
     ]
    }
   ],
   "source": [
    "best_state, best_fitness = mlrose.genetic_alg(problem_fit, random_state = 2)\n",
    "\n",
    "print(best_state)\n",
    "\n",
    "print(best_fitness)"
   ]
  }
 ],
 "metadata": {
  "kernelspec": {
   "display_name": "Python 3",
   "language": "python",
   "name": "python3"
  },
  "language_info": {
   "codemirror_mode": {
    "name": "ipython",
    "version": 3
   },
   "file_extension": ".py",
   "mimetype": "text/x-python",
   "name": "python",
   "nbconvert_exporter": "python",
   "pygments_lexer": "ipython3",
   "version": "3.7.6"
  }
 },
 "nbformat": 4,
 "nbformat_minor": 4
}
