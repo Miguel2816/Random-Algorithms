{
 "cells": [
  {
   "cell_type": "markdown",
   "metadata": {},
   "source": [
    "# LINEAR DECISION PROBLEM"
   ]
  },
  {
   "cell_type": "markdown",
   "metadata": {},
   "source": [
    "The below example illustrates how to allocate money to different bond to maximize the total return. A company needs to invest 100.000$ in following collection of bonds to maximize the annual return. In order to solve the linear decision problem, we are going to use the library PuLP, which is an LP modeler written in python. PuLP can generate MPS or LP files and call GLPK, COIN CLP/CBC, CPLEX, and GUROBI to solve linear problems."
   ]
  },
  {
   "cell_type": "code",
   "execution_count": 1,
   "metadata": {},
   "outputs": [],
   "source": [
    "# Import require libraries\n",
    "\n",
    "import pandas as pd\n",
    "from pulp import *"
   ]
  },
  {
   "cell_type": "code",
   "execution_count": 2,
   "metadata": {},
   "outputs": [],
   "source": [
    "# Create the dataframe from a dict\n",
    "\n",
    "dict_investment = {'Bonds':['A', 'B', 'C', 'D', 'E'], 'Amount_Invested':['Xa', 'Xb','Xc', 'Xd', 'Xe'], 'Return': [0.095,0.08,0.09,0.09,0.09], 'Matuarity':['Long', 'Short', 'Long', 'Long', 'Short'], 'Risk':['High', 'Low', 'Low', 'High', 'High'], 'Tax-Free':['Yes', 'Yes', 'No', 'Yes', 'No']}\n",
    "\n",
    "df_investment = pd.DataFrame(data=dict_investment)"
   ]
  },
  {
   "cell_type": "code",
   "execution_count": 3,
   "metadata": {},
   "outputs": [
    {
     "data": {
      "text/html": [
       "<div>\n",
       "<style scoped>\n",
       "    .dataframe tbody tr th:only-of-type {\n",
       "        vertical-align: middle;\n",
       "    }\n",
       "\n",
       "    .dataframe tbody tr th {\n",
       "        vertical-align: top;\n",
       "    }\n",
       "\n",
       "    .dataframe thead th {\n",
       "        text-align: right;\n",
       "    }\n",
       "</style>\n",
       "<table border=\"1\" class=\"dataframe\">\n",
       "  <thead>\n",
       "    <tr style=\"text-align: right;\">\n",
       "      <th></th>\n",
       "      <th>Bonds</th>\n",
       "      <th>Amount_Invested</th>\n",
       "      <th>Return</th>\n",
       "      <th>Matuarity</th>\n",
       "      <th>Risk</th>\n",
       "      <th>Tax-Free</th>\n",
       "    </tr>\n",
       "  </thead>\n",
       "  <tbody>\n",
       "    <tr>\n",
       "      <th>0</th>\n",
       "      <td>A</td>\n",
       "      <td>Xa</td>\n",
       "      <td>0.095</td>\n",
       "      <td>Long</td>\n",
       "      <td>High</td>\n",
       "      <td>Yes</td>\n",
       "    </tr>\n",
       "    <tr>\n",
       "      <th>1</th>\n",
       "      <td>B</td>\n",
       "      <td>Xb</td>\n",
       "      <td>0.080</td>\n",
       "      <td>Short</td>\n",
       "      <td>Low</td>\n",
       "      <td>Yes</td>\n",
       "    </tr>\n",
       "    <tr>\n",
       "      <th>2</th>\n",
       "      <td>C</td>\n",
       "      <td>Xc</td>\n",
       "      <td>0.090</td>\n",
       "      <td>Long</td>\n",
       "      <td>Low</td>\n",
       "      <td>No</td>\n",
       "    </tr>\n",
       "    <tr>\n",
       "      <th>3</th>\n",
       "      <td>D</td>\n",
       "      <td>Xd</td>\n",
       "      <td>0.090</td>\n",
       "      <td>Long</td>\n",
       "      <td>High</td>\n",
       "      <td>Yes</td>\n",
       "    </tr>\n",
       "    <tr>\n",
       "      <th>4</th>\n",
       "      <td>E</td>\n",
       "      <td>Xe</td>\n",
       "      <td>0.090</td>\n",
       "      <td>Short</td>\n",
       "      <td>High</td>\n",
       "      <td>No</td>\n",
       "    </tr>\n",
       "  </tbody>\n",
       "</table>\n",
       "</div>"
      ],
      "text/plain": [
       "  Bonds Amount_Invested  Return Matuarity  Risk Tax-Free\n",
       "0     A              Xa   0.095      Long  High      Yes\n",
       "1     B              Xb   0.080     Short   Low      Yes\n",
       "2     C              Xc   0.090      Long   Low       No\n",
       "3     D              Xd   0.090      Long  High      Yes\n",
       "4     E              Xe   0.090     Short  High       No"
      ]
     },
     "execution_count": 3,
     "metadata": {},
     "output_type": "execute_result"
    }
   ],
   "source": [
    "df_investment"
   ]
  },
  {
   "cell_type": "code",
   "execution_count": 4,
   "metadata": {},
   "outputs": [
    {
     "data": {
      "text/html": [
       "<div>\n",
       "<style scoped>\n",
       "    .dataframe tbody tr th:only-of-type {\n",
       "        vertical-align: middle;\n",
       "    }\n",
       "\n",
       "    .dataframe tbody tr th {\n",
       "        vertical-align: top;\n",
       "    }\n",
       "\n",
       "    .dataframe thead th {\n",
       "        text-align: right;\n",
       "    }\n",
       "</style>\n",
       "<table border=\"1\" class=\"dataframe\">\n",
       "  <thead>\n",
       "    <tr style=\"text-align: right;\">\n",
       "      <th></th>\n",
       "      <th>Bonds</th>\n",
       "      <th>Amount_Invested</th>\n",
       "      <th>Return</th>\n",
       "      <th>Matuarity</th>\n",
       "      <th>Risk</th>\n",
       "      <th>Tax-Free</th>\n",
       "    </tr>\n",
       "  </thead>\n",
       "  <tbody>\n",
       "    <tr>\n",
       "      <th>0</th>\n",
       "      <td>A</td>\n",
       "      <td>Xa</td>\n",
       "      <td>0.095</td>\n",
       "      <td>0</td>\n",
       "      <td>1</td>\n",
       "      <td>1</td>\n",
       "    </tr>\n",
       "    <tr>\n",
       "      <th>1</th>\n",
       "      <td>B</td>\n",
       "      <td>Xb</td>\n",
       "      <td>0.080</td>\n",
       "      <td>1</td>\n",
       "      <td>0</td>\n",
       "      <td>1</td>\n",
       "    </tr>\n",
       "    <tr>\n",
       "      <th>2</th>\n",
       "      <td>C</td>\n",
       "      <td>Xc</td>\n",
       "      <td>0.090</td>\n",
       "      <td>0</td>\n",
       "      <td>0</td>\n",
       "      <td>0</td>\n",
       "    </tr>\n",
       "    <tr>\n",
       "      <th>3</th>\n",
       "      <td>D</td>\n",
       "      <td>Xd</td>\n",
       "      <td>0.090</td>\n",
       "      <td>0</td>\n",
       "      <td>1</td>\n",
       "      <td>1</td>\n",
       "    </tr>\n",
       "    <tr>\n",
       "      <th>4</th>\n",
       "      <td>E</td>\n",
       "      <td>Xe</td>\n",
       "      <td>0.090</td>\n",
       "      <td>1</td>\n",
       "      <td>1</td>\n",
       "      <td>0</td>\n",
       "    </tr>\n",
       "  </tbody>\n",
       "</table>\n",
       "</div>"
      ],
      "text/plain": [
       "  Bonds Amount_Invested  Return  Matuarity  Risk  Tax-Free\n",
       "0     A              Xa   0.095          0     1         1\n",
       "1     B              Xb   0.080          1     0         1\n",
       "2     C              Xc   0.090          0     0         0\n",
       "3     D              Xd   0.090          0     1         1\n",
       "4     E              Xe   0.090          1     1         0"
      ]
     },
     "execution_count": 4,
     "metadata": {},
     "output_type": "execute_result"
    }
   ],
   "source": [
    "# Convert the columns into numbers\n",
    "\n",
    "df_investment['Risk'] = [1,0,0,1,1] # High:1 | Low:0\n",
    "df_investment['Tax-Free'] = [1,1,0,1,0] # Yes:1 | No:0\n",
    "df_investment['Matuarity'] = [0,1,0,0,1] # Short:1 | Long:0\n",
    "\n",
    "df_investment"
   ]
  },
  {
   "cell_type": "code",
   "execution_count": 5,
   "metadata": {},
   "outputs": [],
   "source": [
    "# Generate the linear decision problem\n",
    "\n",
    "prob = LpProblem(\"Optimization\", LpMaximize)"
   ]
  },
  {
   "cell_type": "code",
   "execution_count": 6,
   "metadata": {},
   "outputs": [
    {
     "data": {
      "text/plain": [
       "Optimization:\n",
       "MAXIMIZE\n",
       "None\n",
       "VARIABLES"
      ]
     },
     "execution_count": 6,
     "metadata": {},
     "output_type": "execute_result"
    }
   ],
   "source": [
    "prob"
   ]
  },
  {
   "cell_type": "code",
   "execution_count": 9,
   "metadata": {},
   "outputs": [],
   "source": [
    "# Create dicts of our variables\n",
    "\n",
    "amount_invested = list(df_investment['Amount_Invested'])\n",
    "returns = dict(zip(amount_invested,df_investment['Return']))\n",
    "matuarity = dict(zip(amount_invested,df_investment['Matuarity']))\n",
    "risks = dict(zip(amount_invested,df_investment['Risk']))\n",
    "tax = dict(zip(amount_invested,df_investment['Tax-Free']))"
   ]
  },
  {
   "cell_type": "code",
   "execution_count": 10,
   "metadata": {},
   "outputs": [
    {
     "data": {
      "text/plain": [
       "{'Xa': Amount_Invested_Xa,\n",
       " 'Xb': Amount_Invested_Xb,\n",
       " 'Xc': Amount_Invested_Xc,\n",
       " 'Xd': Amount_Invested_Xd,\n",
       " 'Xe': Amount_Invested_Xe}"
      ]
     },
     "execution_count": 10,
     "metadata": {},
     "output_type": "execute_result"
    }
   ],
   "source": [
    "# Define the decision variables, lowBound = 0 (decision variables >=0) and continuos variables\n",
    "\n",
    "bond_vars = LpVariable.dicts(\"Amount_Invested\", amount_invested, lowBound=0, cat='Continuous')\n",
    "bond_vars"
   ]
  },
  {
   "cell_type": "code",
   "execution_count": 11,
   "metadata": {},
   "outputs": [
    {
     "data": {
      "text/plain": [
       "Optimization:\n",
       "MAXIMIZE\n",
       "0.095*Amount_Invested_Xa + 0.08*Amount_Invested_Xb + 0.09*Amount_Invested_Xc + 0.09*Amount_Invested_Xd + 0.09*Amount_Invested_Xe + 0.0\n",
       "VARIABLES\n",
       "Amount_Invested_Xa Continuous\n",
       "Amount_Invested_Xb Continuous\n",
       "Amount_Invested_Xc Continuous\n",
       "Amount_Invested_Xd Continuous\n",
       "Amount_Invested_Xe Continuous"
      ]
     },
     "execution_count": 11,
     "metadata": {},
     "output_type": "execute_result"
    }
   ],
   "source": [
    "# Set the decision function\n",
    "\n",
    "prob += lpSum([returns[i]*bond_vars[i] for i in amount_invested])\n",
    "prob"
   ]
  },
  {
   "cell_type": "code",
   "execution_count": 12,
   "metadata": {},
   "outputs": [],
   "source": [
    "# Constraint 1:\n",
    "prob += lpSum([bond_vars[f] for f in amount_invested])==100000,'Total Available'\n",
    "\n",
    "# Constrains 2:\n",
    "prob += lpSum([risks[f]*bond_vars[f] for f in amount_invested]) <= 0.5*100000, \"Risks\"\n",
    "\n",
    "# Constraint 3:\n",
    "prob += lpSum([matuarity[f]*bond_vars[f] for f in amount_invested]) >= 0.5*100000, \"Matuarity\"\n",
    "\n",
    "# Constraint 4:\n",
    "prob += lpSum([tax[f]*bond_vars[f] for f in amount_invested]) >= 0.3*100000, \"Tax\"\n",
    "\n",
    "# Constraint 5:\n",
    "prob += lpSum([tax[f]*returns[f]*bond_vars[f] for f in amount_invested]) >= lpSum([returns[f]*bond_vars[f] for f in amount_invested])*0.4, \"Return from Tax Free\"\n"
   ]
  },
  {
   "cell_type": "code",
   "execution_count": 16,
   "metadata": {},
   "outputs": [
    {
     "data": {
      "text/plain": [
       "Optimization:\n",
       "MAXIMIZE\n",
       "0.095*Amount_Invested_Xa + 0.08*Amount_Invested_Xb + 0.09*Amount_Invested_Xc + 0.09*Amount_Invested_Xd + 0.09*Amount_Invested_Xe + 0.0\n",
       "SUBJECT TO\n",
       "Total_Available: Amount_Invested_Xa + Amount_Invested_Xb + Amount_Invested_Xc\n",
       " + Amount_Invested_Xd + Amount_Invested_Xe = 100000\n",
       "\n",
       "Risks: Amount_Invested_Xa + Amount_Invested_Xd + Amount_Invested_Xe <= 50000\n",
       "\n",
       "Matuarity: Amount_Invested_Xb + Amount_Invested_Xe >= 50000\n",
       "\n",
       "Tax: Amount_Invested_Xa + Amount_Invested_Xb + Amount_Invested_Xd >= 30000\n",
       "\n",
       "Return_from_Tax_Free: 0.057 Amount_Invested_Xa + 0.048 Amount_Invested_Xb\n",
       " - 0.036 Amount_Invested_Xc + 0.054 Amount_Invested_Xd\n",
       " - 0.036 Amount_Invested_Xe >= 0\n",
       "\n",
       "VARIABLES\n",
       "Amount_Invested_Xa Continuous\n",
       "Amount_Invested_Xb Continuous\n",
       "Amount_Invested_Xc Continuous\n",
       "Amount_Invested_Xd Continuous\n",
       "Amount_Invested_Xe Continuous"
      ]
     },
     "execution_count": 16,
     "metadata": {},
     "output_type": "execute_result"
    }
   ],
   "source": [
    "prob"
   ]
  },
  {
   "cell_type": "code",
   "execution_count": 17,
   "metadata": {},
   "outputs": [
    {
     "data": {
      "text/plain": [
       "1"
      ]
     },
     "execution_count": 17,
     "metadata": {},
     "output_type": "execute_result"
    }
   ],
   "source": [
    "prob.solve()"
   ]
  },
  {
   "cell_type": "code",
   "execution_count": 18,
   "metadata": {},
   "outputs": [
    {
     "name": "stdout",
     "output_type": "stream",
     "text": [
      "The optimal result is:\n",
      "\n",
      "Amount_Invested_Xa = 20338.983\n",
      "Amount_Invested_Xb = 20338.983\n",
      "Amount_Invested_Xc = 29661.017\n",
      "Amount_Invested_Xd = 0.0\n",
      "Amount_Invested_Xe = 29661.017\n"
     ]
    }
   ],
   "source": [
    "prob.writeLP(\"Optimization.lp\")\n",
    "print('The optimal result is:\\n')\n",
    "for v in prob.variables():\n",
    "    if v.varValue>=0:\n",
    "        print(v.name, '=', v.varValue)"
   ]
  },
  {
   "cell_type": "code",
   "execution_count": null,
   "metadata": {},
   "outputs": [],
   "source": []
  }
 ],
 "metadata": {
  "kernelspec": {
   "display_name": "Python 3",
   "language": "python",
   "name": "python3"
  },
  "language_info": {
   "codemirror_mode": {
    "name": "ipython",
    "version": 3
   },
   "file_extension": ".py",
   "mimetype": "text/x-python",
   "name": "python",
   "nbconvert_exporter": "python",
   "pygments_lexer": "ipython3",
   "version": "3.7.6"
  }
 },
 "nbformat": 4,
 "nbformat_minor": 4
}
